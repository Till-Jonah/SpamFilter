{
 "cells": [
  {
   "cell_type": "markdown",
   "metadata": {},
   "source": [
    "<b>Bayes Spam Filter</b>"
   ]
  },
  {
   "cell_type": "markdown",
   "metadata": {},
   "source": [
    "On the [UCI Machine Learning Repository](https://archive.ics.uci.edu/ml/datasets/sms+spam+collection) page, there is a dataset with over 5000 SMS messages that are already classified as spam or not spam. My goal here is to write a classifier that correctly detects new messages with more than 80% accuracy. The classifier is based on a multinomial Bayes algorithm."
   ]
  },
  {
   "cell_type": "code",
   "execution_count": 1,
   "metadata": {},
   "outputs": [
    {
     "name": "stdout",
     "output_type": "stream",
     "text": [
      "(5572, 2)\n"
     ]
    },
    {
     "data": {
      "text/html": [
       "<div>\n",
       "<style scoped>\n",
       "    .dataframe tbody tr th:only-of-type {\n",
       "        vertical-align: middle;\n",
       "    }\n",
       "\n",
       "    .dataframe tbody tr th {\n",
       "        vertical-align: top;\n",
       "    }\n",
       "\n",
       "    .dataframe thead th {\n",
       "        text-align: right;\n",
       "    }\n",
       "</style>\n",
       "<table border=\"1\" class=\"dataframe\">\n",
       "  <thead>\n",
       "    <tr style=\"text-align: right;\">\n",
       "      <th></th>\n",
       "      <th>Label</th>\n",
       "      <th>Text</th>\n",
       "    </tr>\n",
       "  </thead>\n",
       "  <tbody>\n",
       "    <tr>\n",
       "      <th>0</th>\n",
       "      <td>ham</td>\n",
       "      <td>Go until jurong point, crazy.. Available only ...</td>\n",
       "    </tr>\n",
       "    <tr>\n",
       "      <th>1</th>\n",
       "      <td>ham</td>\n",
       "      <td>Ok lar... Joking wif u oni...</td>\n",
       "    </tr>\n",
       "    <tr>\n",
       "      <th>2</th>\n",
       "      <td>spam</td>\n",
       "      <td>Free entry in 2 a wkly comp to win FA Cup fina...</td>\n",
       "    </tr>\n",
       "    <tr>\n",
       "      <th>3</th>\n",
       "      <td>ham</td>\n",
       "      <td>U dun say so early hor... U c already then say...</td>\n",
       "    </tr>\n",
       "    <tr>\n",
       "      <th>4</th>\n",
       "      <td>ham</td>\n",
       "      <td>Nah I don't think he goes to usf, he lives aro...</td>\n",
       "    </tr>\n",
       "  </tbody>\n",
       "</table>\n",
       "</div>"
      ],
      "text/plain": [
       "  Label                                               Text\n",
       "0   ham  Go until jurong point, crazy.. Available only ...\n",
       "1   ham                      Ok lar... Joking wif u oni...\n",
       "2  spam  Free entry in 2 a wkly comp to win FA Cup fina...\n",
       "3   ham  U dun say so early hor... U c already then say...\n",
       "4   ham  Nah I don't think he goes to usf, he lives aro..."
      ]
     },
     "execution_count": 1,
     "metadata": {},
     "output_type": "execute_result"
    }
   ],
   "source": [
    "import pandas as pd\n",
    "import re\n",
    "\n",
    "msg  = pd.read_csv(\"msg\", sep = \"\\t\", header = None, names = [\"Label\",\"Text\"])\n",
    "print(msg.shape)\n",
    "msg.head()"
   ]
  },
  {
   "cell_type": "code",
   "execution_count": 2,
   "metadata": {},
   "outputs": [
    {
     "name": "stdout",
     "output_type": "stream",
     "text": [
      "Spam percentage : 0.1341\n",
      "No spam percentage : 0.8659\n"
     ]
    }
   ],
   "source": [
    "pct_ham = msg[\"Label\"].value_counts(normalize=True).loc[\"ham\"]\n",
    "pct_spam = msg[\"Label\"].value_counts(normalize=True).loc[\"spam\"]\n",
    "\n",
    "print(\"Spam percentage : {}\".format(round(pct_spam,4)))\n",
    "print(\"No spam percentage : {}\".format(round(pct_ham,4)))"
   ]
  },
  {
   "cell_type": "markdown",
   "metadata": {},
   "source": [
    "Dividing the messages into training and test set."
   ]
  },
  {
   "cell_type": "code",
   "execution_count": 3,
   "metadata": {},
   "outputs": [],
   "source": [
    "data_random_sort = msg.sample(frac=1,random_state=1) # random order\n",
    "\n",
    "len_training = round(len(data_random_sort) * 0.8)\n",
    "\n",
    "msg_training =  data_random_sort.iloc[:len_training,:].reset_index(drop=True)\n",
    "msg_test = data_random_sort.iloc[len_training:,:].reset_index(drop=True)"
   ]
  },
  {
   "cell_type": "code",
   "execution_count": 4,
   "metadata": {},
   "outputs": [
    {
     "name": "stdout",
     "output_type": "stream",
     "text": [
      "Spam percentage in training : 0.1346\n",
      "Spam percentage in test: 0.132\n",
      "\n",
      "\n",
      "No spam percentage in training: 0.8654\n",
      "No Spam percentage in test: 0.868\n"
     ]
    }
   ],
   "source": [
    "pct_ham_training = msg_training[\"Label\"].value_counts(normalize=True).loc[\"ham\"]\n",
    "pct_spam_training = msg_training[\"Label\"].value_counts(normalize=True).loc[\"spam\"]\n",
    "\n",
    "pct_ham_test = msg_test[\"Label\"].value_counts(normalize=True).loc[\"ham\"]\n",
    "pct_spam_test = msg_test[\"Label\"].value_counts(normalize=True).loc[\"spam\"]\n",
    "\n",
    "print(\"Spam percentage in training : {}\".format(round(pct_spam_training,4)))\n",
    "print(\"Spam percentage in test: {}\".format(round(pct_spam_test,4)))\n",
    "print(\"\\n\")\n",
    "print(\"No spam percentage in training: {}\".format(round(pct_ham_training,4)))\n",
    "print(\"No Spam percentage in test: {}\".format(round(pct_ham_test,4)))"
   ]
  },
  {
   "cell_type": "markdown",
   "metadata": {},
   "source": [
    "**Efficient Formatting**"
   ]
  },
  {
   "cell_type": "markdown",
   "metadata": {},
   "source": [
    "Formatting goal: Each occurring word in the entire dataset gets its own row, which counts the frequency of the word in each message. An exemplary series should look like this:"
   ]
  },
  {
   "cell_type": "markdown",
   "metadata": {},
   "source": [
    "| Index | Label | Word1 | Word2 | Word3 | --- |\n",
    "| --- | --- | --- |--- | --- | --- |\n",
    "| 435 | Ham | 1 | 0 | 2 | --- |\n",
    "| 436 | Ham | 0 | 1 | 1 | --- |"
   ]
  },
  {
   "cell_type": "markdown",
   "metadata": {},
   "source": [
    "Formatted in this way, all the necessary probability for label determination can be easily computed using the multinominal Bayes technique.\n",
    "\n",
    "Adjustments: \n",
    "\n",
    "* remove punctuation\n",
    "* format all letters to lowercase\n",
    "\n",
    "Additional note: For later improvement, number of uppercase letters and exclamation marks are recorded."
   ]
  },
  {
   "cell_type": "code",
   "execution_count": 5,
   "metadata": {},
   "outputs": [],
   "source": [
    "def count_exclamation_marks(text):\n",
    "    counts = 0\n",
    "    for letter in text:\n",
    "        if ord(letter) == ord(\"!\"):\n",
    "            counts += 1\n",
    "    return counts"
   ]
  },
  {
   "cell_type": "code",
   "execution_count": 6,
   "metadata": {},
   "outputs": [],
   "source": [
    "def count_upper_cases(text):\n",
    "    counts = 0\n",
    "    for letter in text:\n",
    "        if ord(\"A\") <= ord(letter) <= ord(\"Z\"):\n",
    "            counts += 1\n",
    "    return counts"
   ]
  },
  {
   "cell_type": "code",
   "execution_count": 7,
   "metadata": {},
   "outputs": [],
   "source": [
    "exclamation_training = msg_training[\"Text\"].apply(count_exclamation_marks).rename(\"exclamation\")\n",
    "exclamation_test = msg_test[\"Text\"].apply(count_exclamation_marks).rename(\"exclamation\")"
   ]
  },
  {
   "cell_type": "code",
   "execution_count": 8,
   "metadata": {},
   "outputs": [],
   "source": [
    "upper_letter_training = msg_training[\"Text\"].apply(count_upper_cases).rename(\"upper\")\n",
    "upper_letter_test = msg_test[\"Text\"].apply(count_upper_cases).rename(\"upper\")"
   ]
  },
  {
   "cell_type": "code",
   "execution_count": 9,
   "metadata": {},
   "outputs": [
    {
     "name": "stderr",
     "output_type": "stream",
     "text": [
      "<ipython-input-9-5b8f12492cab>:1: FutureWarning: The default value of regex will change from True to False in a future version.\n",
      "  msg_training[\"Text\"] = msg_training[\"Text\"].str.replace(\"\\W\",\" \").str.lower()\n",
      "<ipython-input-9-5b8f12492cab>:3: FutureWarning: The default value of regex will change from True to False in a future version.\n",
      "  msg_test[\"Text\"] = msg_test[\"Text\"].str.replace(\"\\W\",\" \").str.lower()\n"
     ]
    }
   ],
   "source": [
    "msg_training[\"Text\"] = msg_training[\"Text\"].str.replace(\"\\W\",\" \").str.lower()\n",
    "original_test_msg = msg_test[\"Text\"].reset_index(drop=True)\n",
    "msg_test[\"Text\"] = msg_test[\"Text\"].str.replace(\"\\W\",\" \").str.lower()"
   ]
  },
  {
   "cell_type": "code",
   "execution_count": 10,
   "metadata": {},
   "outputs": [
    {
     "data": {
      "text/plain": [
       "7783"
      ]
     },
     "execution_count": 10,
     "metadata": {},
     "output_type": "execute_result"
    }
   ],
   "source": [
    "#list with unique words\n",
    "word_list = []\n",
    "\n",
    "for text in msg_training[\"Text\"].str.split():\n",
    "    for word in text:\n",
    "        if word not in word_list:\n",
    "            word_list.append(word)\n",
    "len(word_list)"
   ]
  },
  {
   "cell_type": "markdown",
   "metadata": {},
   "source": [
    "Initaialisierung of dictionary with frequency."
   ]
  },
  {
   "cell_type": "code",
   "execution_count": 11,
   "metadata": {},
   "outputs": [],
   "source": [
    "word_dict = dict(zip(word_list,[0] * len(word_list)))"
   ]
  },
  {
   "cell_type": "code",
   "execution_count": 12,
   "metadata": {},
   "outputs": [],
   "source": [
    "def count_words(frame,in_col = \"Text\"):\n",
    "    all_dicts = []\n",
    "    for row_num in range(len(frame)):\n",
    "        text_col = frame.columns.get_loc(in_col)\n",
    "        text = frame.iloc[row_num,text_col].split()\n",
    "        current_dic = word_dict.copy()\n",
    "        for word in text:\n",
    "            current_dic[word] += 1\n",
    "        all_dicts.append(current_dic)\n",
    "    return all_dicts "
   ]
  },
  {
   "cell_type": "code",
   "execution_count": 13,
   "metadata": {},
   "outputs": [],
   "source": [
    "word_count_frame = pd.DataFrame(count_words(msg_training))"
   ]
  },
  {
   "cell_type": "code",
   "execution_count": 14,
   "metadata": {},
   "outputs": [
    {
     "data": {
      "text/html": [
       "<div>\n",
       "<style scoped>\n",
       "    .dataframe tbody tr th:only-of-type {\n",
       "        vertical-align: middle;\n",
       "    }\n",
       "\n",
       "    .dataframe tbody tr th {\n",
       "        vertical-align: top;\n",
       "    }\n",
       "\n",
       "    .dataframe thead th {\n",
       "        text-align: right;\n",
       "    }\n",
       "</style>\n",
       "<table border=\"1\" class=\"dataframe\">\n",
       "  <thead>\n",
       "    <tr style=\"text-align: right;\">\n",
       "      <th></th>\n",
       "      <th>Label</th>\n",
       "      <th>Text</th>\n",
       "      <th>yep</th>\n",
       "      <th>by</th>\n",
       "      <th>the</th>\n",
       "      <th>pretty</th>\n",
       "      <th>sculpture</th>\n",
       "      <th>yes</th>\n",
       "      <th>princess</th>\n",
       "      <th>are</th>\n",
       "      <th>you</th>\n",
       "      <th>going</th>\n",
       "    </tr>\n",
       "  </thead>\n",
       "  <tbody>\n",
       "    <tr>\n",
       "      <th>0</th>\n",
       "      <td>ham</td>\n",
       "      <td>yep  by the pretty sculpture</td>\n",
       "      <td>1</td>\n",
       "      <td>1</td>\n",
       "      <td>1</td>\n",
       "      <td>1</td>\n",
       "      <td>1</td>\n",
       "      <td>0</td>\n",
       "      <td>0</td>\n",
       "      <td>0</td>\n",
       "      <td>0</td>\n",
       "      <td>0</td>\n",
       "    </tr>\n",
       "    <tr>\n",
       "      <th>1</th>\n",
       "      <td>ham</td>\n",
       "      <td>yes  princess  are you going to make me moan</td>\n",
       "      <td>0</td>\n",
       "      <td>0</td>\n",
       "      <td>0</td>\n",
       "      <td>0</td>\n",
       "      <td>0</td>\n",
       "      <td>1</td>\n",
       "      <td>1</td>\n",
       "      <td>1</td>\n",
       "      <td>1</td>\n",
       "      <td>1</td>\n",
       "    </tr>\n",
       "    <tr>\n",
       "      <th>2</th>\n",
       "      <td>ham</td>\n",
       "      <td>welp apparently he retired</td>\n",
       "      <td>0</td>\n",
       "      <td>0</td>\n",
       "      <td>0</td>\n",
       "      <td>0</td>\n",
       "      <td>0</td>\n",
       "      <td>0</td>\n",
       "      <td>0</td>\n",
       "      <td>0</td>\n",
       "      <td>0</td>\n",
       "      <td>0</td>\n",
       "    </tr>\n",
       "  </tbody>\n",
       "</table>\n",
       "</div>"
      ],
      "text/plain": [
       "  Label                                           Text  yep  by  the  pretty  \\\n",
       "0   ham                   yep  by the pretty sculpture    1   1    1       1   \n",
       "1   ham  yes  princess  are you going to make me moan     0   0    0       0   \n",
       "2   ham                     welp apparently he retired    0   0    0       0   \n",
       "\n",
       "   sculpture  yes  princess  are  you  going  \n",
       "0          1    0         0    0    0      0  \n",
       "1          0    1         1    1    1      1  \n",
       "2          0    0         0    0    0      0  "
      ]
     },
     "execution_count": 14,
     "metadata": {},
     "output_type": "execute_result"
    }
   ],
   "source": [
    "training = pd.concat([msg_training,word_count_frame],axis=1)\n",
    "training.shape\n",
    "training.iloc[0:3,0:12]"
   ]
  },
  {
   "cell_type": "markdown",
   "metadata": {},
   "source": [
    "<b>Multinomial Bayes Algorithmus</b>"
   ]
  },
  {
   "cell_type": "markdown",
   "metadata": {},
   "source": [
    "The probability that a new message falls into the spam or no spam category is:"
   ]
  },
  {
   "cell_type": "markdown",
   "metadata": {},
   "source": [
    "$$P(Label|Msg) = \\frac{P(Label|Msg) * P(Label)}{P(Msg)}$$"
   ]
  },
  {
   "cell_type": "markdown",
   "metadata": {},
   "source": [
    "The denominator of this fraction is the same for both categories, since it does not depend on the category. Therefore, it is the numerator that is interesting. The naive Bayes algorithm makes the simplifying assumption that the probabilities for the occurrence of each word in a message are independent of the occurrence of each other word (mutually independent). This assumption will not hold most of the time, because if the word \"winner\" occurs in a message, then an increased probability for the occurrence of the word \"prize\" can be assumed in the following words.Despite the strong assumptions, naive Bayes produces good results.  In particular, the cancellation of the constants from both probabilities and the assumption about independence allows the following simplification:"
   ]
  },
  {
   "cell_type": "markdown",
   "metadata": {},
   "source": [
    "$$ P(Label | Word_1, ... , Word_n)~{\\displaystyle \\propto}~P(Label)~*~\\prod_{i = 1}^{n} P(Word_i | Label)   $$"
   ]
  },
  {
   "cell_type": "markdown",
   "metadata": {},
   "source": [
    "New words in the test set that are not present in the training set are problematic. These lead to an estimated probability of Ham given the included words of zero. To avoid this, the Laplace Smoothing technique (alpha=1) is used. The conditional probability for the occurrence of a word given the category is then equal to:"
   ]
  },
  {
   "cell_type": "markdown",
   "metadata": {},
   "source": [
    "$$ P(Word_i|Label) = \\frac{N_{w_i|Label}+\\alpha}{N_{Label} + \\alpha *N_{total}} $$"
   ]
  },
  {
   "cell_type": "markdown",
   "metadata": {},
   "source": [
    "N refers to the number of words with the given properties.First, the constants are calculated: "
   ]
  },
  {
   "cell_type": "code",
   "execution_count": 15,
   "metadata": {},
   "outputs": [],
   "source": [
    "training_ham = training[training[\"Label\"]==\"ham\"]\n",
    "training_spam = training[training[\"Label\"]==\"spam\"]"
   ]
  },
  {
   "cell_type": "code",
   "execution_count": 16,
   "metadata": {},
   "outputs": [],
   "source": [
    "p_ham = training_ham.shape[0]/msg_training.shape[0]\n",
    "p_spam = training_spam.shape[0]/msg_training.shape[0]"
   ]
  },
  {
   "cell_type": "code",
   "execution_count": 17,
   "metadata": {},
   "outputs": [],
   "source": [
    "n_unique = len(word_list)\n",
    "n_ham = training_ham.iloc[:,2:].sum().sum()\n",
    "n_spam = training_spam.iloc[:,2:].sum().sum()"
   ]
  },
  {
   "cell_type": "code",
   "execution_count": 18,
   "metadata": {},
   "outputs": [],
   "source": [
    "alpha = 1"
   ]
  },
  {
   "cell_type": "markdown",
   "metadata": {},
   "source": [
    "Other terms are calculated from the dictionary."
   ]
  },
  {
   "cell_type": "code",
   "execution_count": 19,
   "metadata": {},
   "outputs": [],
   "source": [
    "def full_dict_words(frame,in_col = \"Text\"):\n",
    "    full = word_dict.copy()\n",
    "    for row_num in range(len(frame)):\n",
    "        text_col = frame.columns.get_loc(in_col)\n",
    "        text = frame.iloc[row_num,text_col].split()\n",
    "        for word in text:\n",
    "            full[word] += 1\n",
    "    return full"
   ]
  },
  {
   "cell_type": "code",
   "execution_count": 20,
   "metadata": {},
   "outputs": [],
   "source": [
    "dict_words_ham = full_dict_words(training_ham)\n",
    "dict_words_spam = full_dict_words(training_spam)"
   ]
  },
  {
   "cell_type": "code",
   "execution_count": 21,
   "metadata": {},
   "outputs": [],
   "source": [
    "p_w_ham = { k : (dict_words_ham[k] + alpha)/(n_ham + alpha * n_unique) for k in dict_words_ham}\n",
    "p_w_spam = { k : (dict_words_spam[k] + alpha)/(n_spam + alpha * n_unique) for k in dict_words_spam}"
   ]
  },
  {
   "cell_type": "markdown",
   "metadata": {},
   "source": [
    "The Classify function calculates the two conditional probabilities for a new message and classifies the message into the category with the higher probability."
   ]
  },
  {
   "cell_type": "code",
   "execution_count": 22,
   "metadata": {},
   "outputs": [],
   "source": [
    "def classify(msg):\n",
    "    \n",
    "    text = re.sub(\"\\W\",\" \",msg)\n",
    "    text = text.lower().split()\n",
    "    p_spam_given_msg = p_spam\n",
    "    p_ham_given_msg = p_ham\n",
    "    \n",
    "    for word in text:\n",
    "        \n",
    "        if word in dict_words_spam:\n",
    "            p_spam_given_msg *= p_w_spam[word]\n",
    "        if word in dict_words_ham:\n",
    "            p_ham_given_msg *= p_w_ham[word]\n",
    "    \n",
    "    print(\"P(Ham|Msg)={}\".format(p_ham_given_msg))\n",
    "    print(\"P(Spam|Msg)={}\".format(p_spam_given_msg))\n",
    "    if p_ham_given_msg >= p_spam_given_msg:\n",
    "        return \"ham\"\n",
    "    else:\n",
    "        return \"spam\""
   ]
  },
  {
   "cell_type": "code",
   "execution_count": 23,
   "metadata": {},
   "outputs": [
    {
     "name": "stdout",
     "output_type": "stream",
     "text": [
      "P(Ham|Msg)=2.488613716142424e-21\n",
      "P(Spam|Msg)=1.088052485084291e-26\n"
     ]
    },
    {
     "data": {
      "text/plain": [
       "'ham'"
      ]
     },
     "execution_count": 23,
     "metadata": {},
     "output_type": "execute_result"
    }
   ],
   "source": [
    "classify(\"Hey. Whats up? Wanna get some burgers later?\") # Example1"
   ]
  },
  {
   "cell_type": "code",
   "execution_count": 30,
   "metadata": {},
   "outputs": [
    {
     "name": "stdout",
     "output_type": "stream",
     "text": [
      "P(Ham|Msg)=8.575406141432293e-41\n",
      "P(Spam|Msg)=4.969879250082834e-32\n"
     ]
    },
    {
     "data": {
      "text/plain": [
       "'spam'"
      ]
     },
     "execution_count": 30,
     "metadata": {},
     "output_type": "execute_result"
    }
   ],
   "source": [
    "classify(\"Congratulations! You are customer number 100.000. Call 123123 to claim your price\") # Example2"
   ]
  },
  {
   "cell_type": "code",
   "execution_count": 25,
   "metadata": {},
   "outputs": [],
   "source": [
    "def classify_test_set(msg):\n",
    "    \n",
    "    text = re.sub(\"\\W\",\" \",msg)\n",
    "    text = text.lower().split()\n",
    "    p_spam_given_msg = p_spam\n",
    "    p_ham_given_msg = p_ham\n",
    "    \n",
    "    for word in text:\n",
    "        \n",
    "        if word in dict_words_spam:\n",
    "            p_spam_given_msg *= p_w_spam[word]\n",
    "        if word in dict_words_ham:\n",
    "            p_ham_given_msg *= p_w_ham[word]\n",
    "    \n",
    "    if p_ham_given_msg >= p_spam_given_msg:\n",
    "        return \"ham\"\n",
    "    else:\n",
    "        return \"spam\"\n",
    "    "
   ]
  },
  {
   "cell_type": "code",
   "execution_count": 26,
   "metadata": {},
   "outputs": [],
   "source": [
    "msg_test[\"Prediction\"]=msg_test[\"Text\"].apply(classify_test_set)\n",
    "msg_test[\"Correctly classified\"] = (msg_test[\"Prediction\"] == msg_test[\"Label\"])"
   ]
  },
  {
   "cell_type": "code",
   "execution_count": 27,
   "metadata": {},
   "outputs": [
    {
     "data": {
      "text/plain": [
       "98.83"
      ]
     },
     "execution_count": 27,
     "metadata": {},
     "output_type": "execute_result"
    }
   ],
   "source": [
    "round(msg_test[\"Correctly classified\"].sum()/len(msg_test) * 100,2)\n"
   ]
  },
  {
   "cell_type": "markdown",
   "metadata": {},
   "source": [
    "Over 98% of the messages from the test set are correctly classified. In particular, very short messages or messages that are difficult to recognize as \"spam\" or \"not spam\" even for the human eye are incorrectly classified. An obvious improvement would be to include capitalization and the number of exclamation marks in the classification. However, the result improves only marginally for this test set. For the time being, I'm satisfied with a rate of over 98% and may look for further improvements later."
   ]
  },
  {
   "cell_type": "code",
   "execution_count": 28,
   "metadata": {},
   "outputs": [
    {
     "data": {
      "text/html": [
       "<div>\n",
       "<style scoped>\n",
       "    .dataframe tbody tr th:only-of-type {\n",
       "        vertical-align: middle;\n",
       "    }\n",
       "\n",
       "    .dataframe tbody tr th {\n",
       "        vertical-align: top;\n",
       "    }\n",
       "\n",
       "    .dataframe thead th {\n",
       "        text-align: right;\n",
       "    }\n",
       "</style>\n",
       "<table border=\"1\" class=\"dataframe\">\n",
       "  <thead>\n",
       "    <tr style=\"text-align: right;\">\n",
       "      <th></th>\n",
       "      <th>Label</th>\n",
       "      <th>Text</th>\n",
       "      <th>Prediction</th>\n",
       "      <th>Correctly classified</th>\n",
       "    </tr>\n",
       "  </thead>\n",
       "  <tbody>\n",
       "    <tr>\n",
       "      <th>114</th>\n",
       "      <td>spam</td>\n",
       "      <td>not heard from u4 a while  call me now am here...</td>\n",
       "      <td>ham</td>\n",
       "      <td>False</td>\n",
       "    </tr>\n",
       "    <tr>\n",
       "      <th>135</th>\n",
       "      <td>spam</td>\n",
       "      <td>more people are dogging in your area now  call...</td>\n",
       "      <td>ham</td>\n",
       "      <td>False</td>\n",
       "    </tr>\n",
       "    <tr>\n",
       "      <th>504</th>\n",
       "      <td>spam</td>\n",
       "      <td>oh my god  i ve found your number again  i m s...</td>\n",
       "      <td>ham</td>\n",
       "      <td>False</td>\n",
       "    </tr>\n",
       "    <tr>\n",
       "      <th>546</th>\n",
       "      <td>spam</td>\n",
       "      <td>hi babe its chloe  how r u  i was smashed on s...</td>\n",
       "      <td>ham</td>\n",
       "      <td>False</td>\n",
       "    </tr>\n",
       "    <tr>\n",
       "      <th>741</th>\n",
       "      <td>spam</td>\n",
       "      <td>0a networks allow companies to bill for sms  s...</td>\n",
       "      <td>ham</td>\n",
       "      <td>False</td>\n",
       "    </tr>\n",
       "    <tr>\n",
       "      <th>876</th>\n",
       "      <td>spam</td>\n",
       "      <td>rct  thnq adrian for u text  rgds vatian</td>\n",
       "      <td>ham</td>\n",
       "      <td>False</td>\n",
       "    </tr>\n",
       "    <tr>\n",
       "      <th>885</th>\n",
       "      <td>spam</td>\n",
       "      <td>2 2 146tf150p</td>\n",
       "      <td>ham</td>\n",
       "      <td>False</td>\n",
       "    </tr>\n",
       "    <tr>\n",
       "      <th>953</th>\n",
       "      <td>spam</td>\n",
       "      <td>hello  we need some posh birds and chaps to us...</td>\n",
       "      <td>ham</td>\n",
       "      <td>False</td>\n",
       "    </tr>\n",
       "  </tbody>\n",
       "</table>\n",
       "</div>"
      ],
      "text/plain": [
       "    Label                                               Text Prediction  \\\n",
       "114  spam  not heard from u4 a while  call me now am here...        ham   \n",
       "135  spam  more people are dogging in your area now  call...        ham   \n",
       "504  spam  oh my god  i ve found your number again  i m s...        ham   \n",
       "546  spam  hi babe its chloe  how r u  i was smashed on s...        ham   \n",
       "741  spam  0a networks allow companies to bill for sms  s...        ham   \n",
       "876  spam           rct  thnq adrian for u text  rgds vatian        ham   \n",
       "885  spam                                      2 2 146tf150p        ham   \n",
       "953  spam  hello  we need some posh birds and chaps to us...        ham   \n",
       "\n",
       "     Correctly classified  \n",
       "114                 False  \n",
       "135                 False  \n",
       "504                 False  \n",
       "546                 False  \n",
       "741                 False  \n",
       "876                 False  \n",
       "885                 False  \n",
       "953                 False  "
      ]
     },
     "execution_count": 28,
     "metadata": {},
     "output_type": "execute_result"
    }
   ],
   "source": [
    "msg_test.loc[(msg_test[\"Prediction\"] == \"ham\") & (msg_test[\"Label\"] == \"spam\"),:]"
   ]
  },
  {
   "cell_type": "code",
   "execution_count": 29,
   "metadata": {},
   "outputs": [
    {
     "data": {
      "text/html": [
       "<div>\n",
       "<style scoped>\n",
       "    .dataframe tbody tr th:only-of-type {\n",
       "        vertical-align: middle;\n",
       "    }\n",
       "\n",
       "    .dataframe tbody tr th {\n",
       "        vertical-align: top;\n",
       "    }\n",
       "\n",
       "    .dataframe thead th {\n",
       "        text-align: right;\n",
       "    }\n",
       "</style>\n",
       "<table border=\"1\" class=\"dataframe\">\n",
       "  <thead>\n",
       "    <tr style=\"text-align: right;\">\n",
       "      <th></th>\n",
       "      <th>Label</th>\n",
       "      <th>Text</th>\n",
       "      <th>Prediction</th>\n",
       "      <th>Correctly classified</th>\n",
       "    </tr>\n",
       "  </thead>\n",
       "  <tbody>\n",
       "    <tr>\n",
       "      <th>152</th>\n",
       "      <td>ham</td>\n",
       "      <td>unlimited texts  limited minutes</td>\n",
       "      <td>spam</td>\n",
       "      <td>False</td>\n",
       "    </tr>\n",
       "    <tr>\n",
       "      <th>159</th>\n",
       "      <td>ham</td>\n",
       "      <td>26th of july</td>\n",
       "      <td>spam</td>\n",
       "      <td>False</td>\n",
       "    </tr>\n",
       "    <tr>\n",
       "      <th>284</th>\n",
       "      <td>ham</td>\n",
       "      <td>nokia phone is lovly</td>\n",
       "      <td>spam</td>\n",
       "      <td>False</td>\n",
       "    </tr>\n",
       "    <tr>\n",
       "      <th>302</th>\n",
       "      <td>ham</td>\n",
       "      <td>no calls  messages  missed calls</td>\n",
       "      <td>spam</td>\n",
       "      <td>False</td>\n",
       "    </tr>\n",
       "    <tr>\n",
       "      <th>319</th>\n",
       "      <td>ham</td>\n",
       "      <td>we have sent jd for customer service cum accou...</td>\n",
       "      <td>spam</td>\n",
       "      <td>False</td>\n",
       "    </tr>\n",
       "  </tbody>\n",
       "</table>\n",
       "</div>"
      ],
      "text/plain": [
       "    Label                                               Text Prediction  \\\n",
       "152   ham                  unlimited texts  limited minutes        spam   \n",
       "159   ham                                       26th of july       spam   \n",
       "284   ham                             nokia phone is lovly         spam   \n",
       "302   ham                   no calls  messages  missed calls       spam   \n",
       "319   ham  we have sent jd for customer service cum accou...       spam   \n",
       "\n",
       "     Correctly classified  \n",
       "152                 False  \n",
       "159                 False  \n",
       "284                 False  \n",
       "302                 False  \n",
       "319                 False  "
      ]
     },
     "execution_count": 29,
     "metadata": {},
     "output_type": "execute_result"
    }
   ],
   "source": [
    "msg_test.loc[(msg_test[\"Prediction\"] == \"spam\") & (msg_test[\"Label\"] == \"ham\"),:]"
   ]
  }
 ],
 "metadata": {
  "kernelspec": {
   "display_name": "Python 3",
   "language": "python",
   "name": "python3"
  },
  "language_info": {
   "codemirror_mode": {
    "name": "ipython",
    "version": 3
   },
   "file_extension": ".py",
   "mimetype": "text/x-python",
   "name": "python",
   "nbconvert_exporter": "python",
   "pygments_lexer": "ipython3",
   "version": "3.8.8"
  }
 },
 "nbformat": 4,
 "nbformat_minor": 4
}
